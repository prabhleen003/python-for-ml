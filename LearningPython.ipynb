{
 "cells": [
  {
   "cell_type": "code",
   "execution_count": 5,
   "id": "f5c5b112-fb74-4dfc-a257-c3cda7193fb6",
   "metadata": {},
   "outputs": [
    {
     "name": "stdout",
     "output_type": "stream",
     "text": [
      "hello\n",
      "20 20.1 prabhleen False\n",
      "<class 'int'> <class 'float'> <class 'str'> <class 'bool'>\n"
     ]
    }
   ],
   "source": [
    "print(\"hello\")\n",
    "x= 20;\n",
    "y=20.1\n",
    "z = \"prabhleen\"\n",
    "b= False\n",
    "print(x,y,z,b)\n",
    "print(type(x),type(y),type(z),type(b))\n",
    "#variable types donot have to be specified python beacuse it is a dynamically typed language \n",
    "# at the run time the compiler assigns the types to the variables but it would also compiles if theres an error\n",
    "#the name of the variables is case sensitive ie need to start with an alphabet \n"
   ]
  },
  {
   "cell_type": "code",
   "execution_count": 7,
   "id": "aa5951b6-1320-4d7b-bfd2-935d7f8931ce",
   "metadata": {},
   "outputs": [
    {
     "name": "stdout",
     "output_type": "stream",
     "text": [
      "30\n",
      "-10\n"
     ]
    }
   ],
   "source": [
    "#usual operations \n",
    "a =20\n",
    "b=30\n",
    "c=10+20\n",
    "print(c)\n",
    "print(a-b)\n"
   ]
  },
  {
   "cell_type": "code",
   "execution_count": 8,
   "id": "95925b65-4822-47c4-9f6a-d96355d5cf49",
   "metadata": {},
   "outputs": [
    {
     "name": "stdout",
     "output_type": "stream",
     "text": [
      "False\n",
      "True\n",
      "True\n",
      "False\n"
     ]
    }
   ],
   "source": [
    "#logical operators are provided for booleans\n",
    "first = False\n",
    "second = True\n",
    "print(first and second) #False\n",
    "print(first or second) #True\n",
    "print(not first)#true\n",
    "print(not second)#false"
   ]
  },
  {
   "cell_type": "code",
   "execution_count": 14,
   "id": "37d1411c-0044-4384-837c-4147530550d5",
   "metadata": {},
   "outputs": [
    {
     "name": "stdout",
     "output_type": "stream",
     "text": [
      "PrabhleenKaur\n",
      "p\n",
      "Nupur\n"
     ]
    }
   ],
   "source": [
    "#concatination of strings\n",
    "Str1 =\"Prabhleen\"\n",
    "Str2 = \"Kaur\"\n",
    "Str3 = Str1 + Str2 \n",
    "print(Str3) # PrabhleenKaur\n",
    "# strings are immutable \n",
    "Str1 = \"Nupur\" #this is reasigning the value \n",
    "#Str1[2]= \"x\" # this is modifying it {mutability} # this throws an error \n",
    "#not sure but reassigning means creating a new object copy maybe\n",
    "#a new copy of the object is created and the reference to the old one is deleted.\n",
    "print(Str1[2]) # you can  access but not modify \n",
    "print(Str1)"
   ]
  },
  {
   "cell_type": "code",
   "execution_count": 23,
   "id": "670f2e3f-655c-416d-9a18-dbc53cd6ddcf",
   "metadata": {},
   "outputs": [
    {
     "name": "stdout",
     "output_type": "stream",
     "text": [
      "[1, 2, 3]\n",
      "1\n",
      "[1, 'hello', 3]\n",
      "[1, 'hello', 3, 'Prabhleen']\n",
      "[1, 'hello', 3, 'Prabhleen', 'a', 'b']\n",
      "6\n"
     ]
    }
   ],
   "source": [
    "#lists\n",
    "# an ordered collection of datatypes(same or different)\n",
    "#mutable\n",
    "list1 =[1,2,3]\n",
    "print(list1) # printys the whole list \n",
    "print(list1[0]) # access to indexed value\n",
    "list1[1]=\"hello\" #mutable\n",
    "print(list1)\n",
    "#append : means joining at the end \n",
    "list1.append(\"Prabhleen\")\n",
    "print(list1)\n",
    "# concatinating two lists \n",
    "list2 =[\"a\",\"b\"]\n",
    "list3 = list1+ list2 \n",
    "print(list3)\n",
    "# length of list \n",
    "print(len(list3))\n"
   ]
  },
  {
   "cell_type": "code",
   "execution_count": 24,
   "id": "572e15a4-0776-4f0d-8231-ac94dbb78dfd",
   "metadata": {},
   "outputs": [],
   "source": [
    "# we can make list of lists and show them as arrays \n"
   ]
  },
  {
   "cell_type": "code",
   "execution_count": 28,
   "id": "b5aafa4c-cb2d-431d-9733-00dd91a648a0",
   "metadata": {},
   "outputs": [
    {
     "name": "stdout",
     "output_type": "stream",
     "text": [
      "[2, 3, 4]\n",
      "[5, 6]\n",
      "[1, 2, 3, 4]\n"
     ]
    }
   ],
   "source": [
    "#slicing \n",
    "#accessing the subsets from ordered collections \n",
    "l =[1,2,3,4,5,6]\n",
    "print(l[1:4]) # the second index will not be accesed  #2,3,4\n",
    "print(l[4:]) #5,6\n",
    "print(l[:4]) #1,2,3,4"
   ]
  },
  {
   "cell_type": "code",
   "execution_count": 31,
   "id": "3808c9f7-8a0e-4148-a656-7186a14a54e6",
   "metadata": {},
   "outputs": [
    {
     "name": "stdout",
     "output_type": "stream",
     "text": [
      "1\n",
      "2\n",
      "3\n",
      "4\n",
      "5\n",
      "hello inside\n",
      "hello inside\n",
      "hello inside\n",
      "hello inside\n",
      "hello inside\n",
      "outside the loop\n"
     ]
    }
   ],
   "source": [
    "#forloops\n",
    "a =[1,2,3,4,5]\n",
    "for i in a: \n",
    "    #@print(a[i]) # this wont work as i will access values rather than indexes \n",
    "    print(i) \n",
    "#indentation in python is followed\n",
    "for i in a :\n",
    "    print(\"hello inside\")\n",
    "print(\"outside the loop\")    \n",
    "    "
   ]
  },
  {
   "cell_type": "code",
   "execution_count": 34,
   "id": "a89cbcfe-49c0-4f98-9bd9-004f780629f1",
   "metadata": {},
   "outputs": [
    {
     "name": "stdout",
     "output_type": "stream",
     "text": [
      "1\n",
      "2\n",
      "3\n",
      "4\n",
      "5.6\n"
     ]
    }
   ],
   "source": [
    "# rangew function in for loops \n",
    "A= [1,2,3,4,5.6]\n",
    "x= len(A)\n",
    "for i in range(0,len(A),1): #range(start, stop ,increament )\n",
    "    print(A[i])\n",
    "# the start and step by default are 0 and 1 resp.    "
   ]
  },
  {
   "cell_type": "code",
   "execution_count": 35,
   "id": "4cecb77b-54c7-4491-ae37-4c125dc00663",
   "metadata": {},
   "outputs": [
    {
     "name": "stdout",
     "output_type": "stream",
     "text": [
      "yess\n"
     ]
    }
   ],
   "source": [
    "#if elif statement \n",
    "x= 20\n",
    "if(x>10):\n",
    "    print(\"yess\") #indentation\n",
    "else:\n",
    "    print(\"no\")\n",
    "    "
   ]
  },
  {
   "cell_type": "code",
   "execution_count": 51,
   "id": "cfe53996-5a84-4015-9bf1-594801bd19b7",
   "metadata": {},
   "outputs": [
    {
     "name": "stdout",
     "output_type": "stream",
     "text": [
      "34\n",
      "{'name': 'prabhleen', 'class': 2, 'age': 19, 'xyz': 34, 'newKey': 'newvalue'}\n",
      "{'name': 'prabhleen', 'class': 2, 'age': 19, 'newKey': 'newvalue'}\n",
      "prabhleen\n",
      "2\n",
      "19\n",
      "newvalue\n",
      "name\n",
      "class\n",
      "age\n",
      "newKey\n"
     ]
    }
   ],
   "source": [
    "#dictonaries \n",
    "# dict has a key and value pair \n",
    "# the key is always unique \n",
    "# the items in the dictionary can be accessesd via there keys \n",
    "dict1= {\n",
    "    \"name\":\"prabhleen\", # the keys must be defined prior \n",
    "    \"class\":2,\n",
    "    \"age\": 19,\n",
    "     \"xyz\":34\n",
    "    \n",
    "}\n",
    "print(dict1[\"xyz\"])\n",
    "# we can add and delete elements in dictionary # mutable \n",
    "# adding a new element \n",
    "dict1[\"newKey\"] = \"newvalue\"\n",
    "print(dict1)\n",
    "del dict1[\"xyz\"]\n",
    "print(dict1)\n",
    "# for accessing keys and values in dictionary using for loop\n",
    "# methods on dict are .values() / .keys()\n",
    "for values in dict1.values():\n",
    "    print(values)\n",
    "for keys in dict1.keys():\n",
    "    print(keys)"
   ]
  },
  {
   "cell_type": "code",
   "execution_count": 60,
   "id": "904dcefb-8b53-40b9-9473-f5cda08ef017",
   "metadata": {},
   "outputs": [
    {
     "name": "stdout",
     "output_type": "stream",
     "text": [
      "1\n",
      "('a', 1, 'prabhleen')\n",
      "bangalore\n"
     ]
    }
   ],
   "source": [
    "# tuples are also kinda lists but the are immutable \n",
    "# they can for example be used to stores the row values of table in excel \n",
    "# tuples are stored in ()\n",
    "tup =(\"a\",1,\"prabhleen\")\n",
    "print(tup[1])\n",
    "\n",
    "print(tup)\n",
    "#tup[1] = 2 : # immutablity\n",
    "# python functions camn return more values using tuples\n",
    "def NEWfunction():\n",
    "    name = \"syx\"\n",
    "    number = 90\n",
    "    city = \"bangalore\"\n",
    "    return(name, number,city) # returns more than one value \n",
    "variable = NEWfunction()\n",
    "name1,name2,name3 = variable\n",
    "print(name3)\n",
    "\n"
   ]
  },
  {
   "cell_type": "code",
   "execution_count": 58,
   "id": "543e0659-a6c1-4e49-8a92-414beda41a2c",
   "metadata": {},
   "outputs": [
    {
     "name": "stdout",
     "output_type": "stream",
     "text": [
      "40\n"
     ]
    }
   ],
   "source": [
    "#functions \n",
    "def add(x,y):\n",
    "    z= x+y\n",
    "    return z\n",
    "h = add(10,30)\n",
    "print(h)"
   ]
  },
  {
   "cell_type": "markdown",
   "id": "31e2fe6d-4cac-47e9-9feb-d1e508243d99",
   "metadata": {},
   "source": [
    "# a tuple corresponds to a record in database table :\n"
   ]
  },
  {
   "cell_type": "code",
   "execution_count": 67,
   "id": "9f64e06f-16a5-465a-9442-d2fbbee14432",
   "metadata": {},
   "outputs": [
    {
     "name": "stdout",
     "output_type": "stream",
     "text": [
      "{'c': 'milo', 'a': 'yolo'}\n"
     ]
    }
   ],
   "source": [
    "#merging two dictonaries \n",
    "dict2 = {\"a\":\"yolo\"}\n",
    "dict3 = {\"c\":\"milo\"} \n",
    "#dict4 = dict2 + dict3\n",
    "for keys in dict2.keys():\n",
    "    dict3[keys]= dict2[keys]\n",
    "print(dict3) "
   ]
  },
  {
   "cell_type": "code",
   "execution_count": null,
   "id": "c9915b52-400b-447f-abb4-98d575da1212",
   "metadata": {},
   "outputs": [],
   "source": []
  },
  {
   "cell_type": "code",
   "execution_count": null,
   "id": "244e9a3b-c587-4353-9605-781c0fccef7d",
   "metadata": {},
   "outputs": [],
   "source": []
  }
 ],
 "metadata": {
  "kernelspec": {
   "display_name": "Python 3 (ipykernel)",
   "language": "python",
   "name": "python3"
  },
  "language_info": {
   "codemirror_mode": {
    "name": "ipython",
    "version": 3
   },
   "file_extension": ".py",
   "mimetype": "text/x-python",
   "name": "python",
   "nbconvert_exporter": "python",
   "pygments_lexer": "ipython3",
   "version": "3.11.3"
  }
 },
 "nbformat": 4,
 "nbformat_minor": 5
}
